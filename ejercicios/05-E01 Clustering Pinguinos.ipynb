{
 "cells": [
  {
   "cell_type": "markdown",
   "metadata": {},
   "source": [
    "### Clustering de especies de pingüinos\n",
    "\n",
    "**Objetivos:**\n",
    "\n",
    "El objetivo del ejercicio es aplicar el algoritmo K-Means al conjunto de datos de pingüinos, determinar el número óptimo de clústeres utilizando la métrica de silueta y analizar la distribución de las especies de pingüinos entre los clústeres.\n",
    "\n",
    "### Instrucciones para el Estudiante:\n",
    "- Haga cada uno de los los ejercicios que se piden a continuación."
   ]
  },
  {
   "cell_type": "markdown",
   "metadata": {},
   "source": [
    "**Importación de librerías**\n",
    "\n",
    "Deberás añadir más librerías "
   ]
  },
  {
   "cell_type": "code",
   "execution_count": 8,
   "metadata": {},
   "outputs": [],
   "source": [
    "import pandas as pd"
   ]
  },
  {
   "cell_type": "markdown",
   "metadata": {},
   "source": [
    "**Carga de los datos**"
   ]
  },
  {
   "cell_type": "code",
   "execution_count": 9,
   "metadata": {},
   "outputs": [],
   "source": [
    "penguins = pd.read_csv('datos/penguins/penguins.csv')"
   ]
  },
  {
   "cell_type": "markdown",
   "metadata": {},
   "source": [
    "**Exploración de los datos:**\n",
    "\n",
    "Realiza una exploración inicial para familiarizarte con los datos. Esto debe incluir comprobaciones de valores faltantes y una visualización de las distribuciones de las características."
   ]
  },
  {
   "cell_type": "code",
   "execution_count": null,
   "metadata": {},
   "outputs": [],
   "source": []
  },
  {
   "cell_type": "markdown",
   "metadata": {},
   "source": [
    "\n",
    "**Preprocesamiento:**\n",
    "- Limpia los datos eliminando o imputando los valores faltantes según lo considere adecuado.\n",
    "- Selecciona las características numéricas que serán utilizadas para el agrupamiento.\n",
    "- Estandariza las características para que tengan una media de 0 y una desviación estándar de 1.\n",
    "\n",
    "**Clustering:**\n",
    "- Aplica el algoritmo K-Means para agrupar los datos en un rango de clústeres (por ejemplo, 2 a 10).\n",
    "- Guarda los resultados de los clústeres para cada configuración de número de clústeres.\n",
    "\n",
    "**Evaluación con la métrica de silueta:**\n",
    "- Para cada número de clústeres, calcule el coeficiente de silueta de todas las muestras.\n",
    "- Determina el número óptimo de clústeres que da la puntuación de silueta más alta.\n",
    "\n",
    "**Visualización y Análisis:**\n",
    "- Visualiza los clústeres óptimos usando un gráfico de dispersión.\n",
    "- Compara los clústeres encontrados con las especies de pingüinos reales y discuta cualquier patrón o tendencia observada."
   ]
  },
  {
   "cell_type": "code",
   "execution_count": null,
   "metadata": {},
   "outputs": [],
   "source": []
  }
 ],
 "metadata": {
  "kernelspec": {
   "display_name": "curso-python-ml",
   "language": "python",
   "name": "python3"
  },
  "language_info": {
   "codemirror_mode": {
    "name": "ipython",
    "version": 3
   },
   "file_extension": ".py",
   "mimetype": "text/x-python",
   "name": "python",
   "nbconvert_exporter": "python",
   "pygments_lexer": "ipython3",
   "version": "3.11.5"
  }
 },
 "nbformat": 4,
 "nbformat_minor": 2
}
