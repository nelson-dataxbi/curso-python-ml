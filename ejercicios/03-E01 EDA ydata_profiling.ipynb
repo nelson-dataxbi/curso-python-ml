{
 "cells": [
  {
   "cell_type": "markdown",
   "metadata": {},
   "source": [
    "### Análisis Exploratorio de Datos (EDA) del Titanic con `ydata-profiling`\n",
    "\n",
    "**Objetivo:**\n",
    "Utilizar la biblioteca `ydata-profiling` para realizar un análisis exploratorio de datos (EDA) completo del conjunto de datos del Titanic. Esta herramienta genera informes interactivos que facilitan la comprensión de la estructura, las relaciones y la existencia de valores atípicos o faltantes en el conjunto de datos.\n",
    "\n",
    "### Instrucciones para el Estudiante:\n",
    "\n",
    "1. **Preparación del Entorno:**\n",
    "   - Asegúrate de que `ydata-profiling` está instalado en tu entorno de trabajo de Python.\n",
    "   - Importa las bibliotecas necesarias, como `pandas` y `ydata-profiling`.\n",
    "\n",
    "2. **Carga de Datos:**\n",
    "   - Carga el conjunto de datos del Titanic en un DataFrame de Pandas.\n",
    "\n",
    "3. **Generación del Perfil del Conjunto de Datos:**\n",
    "   - Utiliza `ProfileReport` de `ydata-profiling` para crear un perfil del conjunto de datos.\n",
    "   - Guarda el informe generado como un archivo HTML o explora interactivamente dentro del cuaderno de Jupyter.\n",
    "\n",
    "4. **Análisis del Informe:**\n",
    "   - Revisa las secciones generadas automáticamente, incluyendo el resumen de variables, las correlaciones y los valores faltantes.\n",
    "   - Identifica cualquier variable con una alta cardinalidad o con una alta cantidad de valores únicos.\n",
    "   - Observa las advertencias sobre posibles errores en los datos, como correlaciones altas o un gran número de ceros."
   ]
  },
  {
   "cell_type": "code",
   "execution_count": null,
   "metadata": {
    "vscode": {
     "languageId": "plaintext"
    }
   },
   "outputs": [],
   "source": []
  }
 ],
 "metadata": {
  "kernelspec": {
   "display_name": "curso-python-ml",
   "language": "python",
   "name": "python3"
  },
  "language_info": {
   "codemirror_mode": {
    "name": "ipython",
    "version": 3
   },
   "file_extension": ".py",
   "mimetype": "text/x-python",
   "name": "python",
   "nbconvert_exporter": "python",
   "pygments_lexer": "ipython3",
   "version": "3.11.5"
  }
 },
 "nbformat": 4,
 "nbformat_minor": 2
}
