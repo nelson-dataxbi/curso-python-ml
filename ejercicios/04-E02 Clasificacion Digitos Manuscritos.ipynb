{
 "cells": [
  {
   "cell_type": "markdown",
   "metadata": {},
   "source": [
    "### Clasificación de dígitos manuscritos con `scikit-learn`\n",
    "\n",
    "**Objetivos:**\n",
    "Utilizar el conjunto de datos de dígitos de `scikit-learn` para desarrollar un modelo de clasificación. El modelo deberá ser capaz de identificar correctamente dígitos manuscritos del 0 al 9.\n",
    "\n",
    "### Instrucciones para el Estudiante:\n",
    "- Haga cada uno de los los ejercicios que se piden a continuación."
   ]
  },
  {
   "cell_type": "markdown",
   "metadata": {},
   "source": [
    "**Carga y Exploración de los datos:**\n",
    "1. Cargar el dataset de dígitos de `scikit-learn`.\n",
    "2. Realizar un análisis exploratorio de los datos para familiarizarse con el dataset. Esto incluye visualizar algunas imágenes de los dígitos y entender la distribución de las clases (dígitos del 0 al 9)."
   ]
  },
  {
   "cell_type": "code",
   "execution_count": null,
   "metadata": {},
   "outputs": [],
   "source": [
    "# Importando librerías.\n",
    "# Es posible que necesites importar más librerías\n",
    "from sklearn.datasets import load_digits\n",
    "import matplotlib.pyplot as plt"
   ]
  },
  {
   "cell_type": "code",
   "execution_count": null,
   "metadata": {},
   "outputs": [],
   "source": [
    "# Cargando el dataset\n",
    "digits = load_digits()"
   ]
  },
  {
   "cell_type": "code",
   "execution_count": null,
   "metadata": {},
   "outputs": [],
   "source": [
    "# Utiliza esta celda para explorar los datos del dataset"
   ]
  },
  {
   "cell_type": "code",
   "execution_count": null,
   "metadata": {},
   "outputs": [],
   "source": [
    "# Visualizando los primeros 10 dígitos y su etiqueta.\n",
    "for r in [0,1]:\n",
    "    _, axes = plt.subplots(nrows=1, ncols=5, figsize=(10, 3))\n",
    "    for ax, image, label in zip(axes, digits.images[r*5:], digits.target[r*5:]):\n",
    "        ax.set_axis_off()\n",
    "        ax.imshow(image, cmap=plt.cm.gray_r, interpolation=\"nearest\")\n",
    "        ax.set_title(f\"etiqueta: {label}\")"
   ]
  },
  {
   "cell_type": "markdown",
   "metadata": {},
   "source": [
    "**Preparación de los datos:**\n",
    "1. Dividir el conjunto de datos en conjuntos de entrenamiento y prueba.\n",
    "2. Normalizar o escalar los datos si es necesario.\n"
   ]
  },
  {
   "cell_type": "code",
   "execution_count": null,
   "metadata": {},
   "outputs": [],
   "source": []
  },
  {
   "cell_type": "markdown",
   "metadata": {},
   "source": [
    "**Entrenamiento del Modelo:**\n",
    "  1. Entrenar al menos tres tipos de clasificadores (por ejemplo, Regresión Logística, SVM y Random Forest) y comparar su rendimiento.\n",
    "  2. Ajustar los hiperparámetros utilizando validación cruzada para mejorar los resultados utilizando la función `cross_val_score` de `scikit-learn`."
   ]
  },
  {
   "cell_type": "code",
   "execution_count": null,
   "metadata": {},
   "outputs": [],
   "source": []
  },
  {
   "cell_type": "markdown",
   "metadata": {},
   "source": [
    "**Evaluación del Modelo:**\n",
    "1. Evaluar los modelos utilizando métricas adecuadas como la precisión y la matriz de confusión.\n",
    "2. Visualizar los resultados de la clasificación."
   ]
  },
  {
   "cell_type": "code",
   "execution_count": null,
   "metadata": {},
   "outputs": [],
   "source": []
  }
 ],
 "metadata": {
  "kernelspec": {
   "display_name": "curso-python-ml",
   "language": "python",
   "name": "python3"
  },
  "language_info": {
   "codemirror_mode": {
    "name": "ipython",
    "version": 3
   },
   "file_extension": ".py",
   "mimetype": "text/x-python",
   "name": "python",
   "nbconvert_exporter": "python",
   "pygments_lexer": "ipython3",
   "version": "3.11.5"
  }
 },
 "nbformat": 4,
 "nbformat_minor": 2
}
