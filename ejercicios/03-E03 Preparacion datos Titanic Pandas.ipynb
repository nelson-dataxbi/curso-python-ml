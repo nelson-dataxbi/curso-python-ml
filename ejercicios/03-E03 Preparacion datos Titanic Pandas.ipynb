{
 "cells": [
  {
   "cell_type": "markdown",
   "metadata": {},
   "source": [
    "### Preparación de los datos del Titanic con Pandas\n",
    "\n",
    "Este ejercicio está diseñado para guiarte a través de un proceso de limpieza de datos detallado y cuidadoso utilizando el conjunto de datos del Titanic. Aprenderás a manejar valores faltantes, convertir variables categóricas y detectar valores atípicos con el fin de preparar los datos para un análisis posterior.\n",
    "\n",
    "### Instrucciones para el Estudiante:\n",
    "- Haga cada uno de los los ejercicios que se piden a continuación.\n",
    "- Crea nuevas celdas si fuera necesario para organizar mejor las respuestas\n"
   ]
  },
  {
   "cell_type": "markdown",
   "metadata": {},
   "source": [
    "\n",
    "**Carga de Datos y Análisis Exploratorio Inicial:**\n",
    "   - Importa Pandas y carga el conjunto de datos del Titanic en un DataFrame.\n",
    "   - Realiza una inspección inicial utilizando `.info()`, `.describe()`, y `.head()` para comprender la estructura y las estadísticas básicas del conjunto de datos."
   ]
  },
  {
   "cell_type": "code",
   "execution_count": null,
   "metadata": {},
   "outputs": [],
   "source": []
  },
  {
   "cell_type": "markdown",
   "metadata": {},
   "source": [
    "\n",
    "**Tratamiento de Valores Faltantes:**\n",
    "   - Utiliza `.isnull().sum()` para identificar y cuantificar los valores faltantes por columna.\n",
    "   - Para la columna 'Age', imputa los valores faltantes con la mediana de las edades, segmentada por clases de pasajero.\n",
    "   - Para la columna 'Cabin', explora la posibilidad de extraer la letra de la cabina como una característica categórica y trata los valores faltantes como una categoría separada.\n",
    "   - Decide si debes eliminar la columna 'Ticket' basándote en su utilidad para el análisis."
   ]
  },
  {
   "cell_type": "code",
   "execution_count": null,
   "metadata": {},
   "outputs": [],
   "source": []
  },
  {
   "cell_type": "code",
   "execution_count": null,
   "metadata": {},
   "outputs": [],
   "source": []
  },
  {
   "cell_type": "markdown",
   "metadata": {},
   "source": [
    "**Conversión de Variables Categóricas:**\n",
    "   - Transforma la variable 'Sex' en una variable numérica utilizando mapeo.\n",
    "   - Convierte 'Embarked' en variables dummy utilizando `pd.get_dummies()` para su inclusión en análisis posteriores."
   ]
  },
  {
   "cell_type": "code",
   "execution_count": null,
   "metadata": {},
   "outputs": [],
   "source": []
  },
  {
   "cell_type": "markdown",
   "metadata": {},
   "source": [
    "\n",
    "**Creación de Nuevas Características:**\n",
    "   - Crea una nueva variable 'FamilySize' sumando las columnas 'SibSp' (Hermanos/Cónyuge a bordo) y 'Parch' (Padres/Hijos a bordo).\n",
    "   - Investiga si la creación de una variable indicadora para pasajeros solos ('IsAlone') podría ser útil."
   ]
  },
  {
   "cell_type": "code",
   "execution_count": null,
   "metadata": {},
   "outputs": [],
   "source": []
  },
  {
   "cell_type": "markdown",
   "metadata": {},
   "source": [
    "**Limpieza Final y Revisión:**\n",
    "   - Elimina las columnas que no se utilizarán en el análisis.\n",
    "   - Realiza una verificación final con `.info()` para asegurarte de que todos los tipos de datos son correctos y que no hay valores faltantes."
   ]
  },
  {
   "cell_type": "code",
   "execution_count": null,
   "metadata": {},
   "outputs": [],
   "source": []
  }
 ],
 "metadata": {
  "kernelspec": {
   "display_name": "curso-python-ml",
   "language": "python",
   "name": "python3"
  },
  "language_info": {
   "codemirror_mode": {
    "name": "ipython",
    "version": 3
   },
   "file_extension": ".py",
   "mimetype": "text/x-python",
   "name": "python",
   "nbconvert_exporter": "python",
   "pygments_lexer": "ipython3",
   "version": "3.11.5"
  }
 },
 "nbformat": 4,
 "nbformat_minor": 2
}
