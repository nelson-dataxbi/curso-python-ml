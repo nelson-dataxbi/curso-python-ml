{
 "cells": [
  {
   "cell_type": "markdown",
   "metadata": {},
   "source": [
    "## Clustering con `scikit-learn` utilizando el conjunto de datos Iris\n",
    "\n",
    "### Objetivos del Ejercicio:\n",
    "1. Utilizar el algoritmo K-Means para identificar agrupaciones en los datos.\n",
    "2. Familiarizarse con el proceso de clustering y las métricas de evaluación.\n",
    "3. Visualizar los clusters.\n",
    "\n",
    "### Descripción del Ejercicio:\n",
    "\n",
    "En este ejercicio, emplearás el algoritmo K-Means de `scikit-learn` para realizar un análisis de clustering en el conjunto de datos Iris. \n",
    "\n",
    "Clustering es un método de aprendizaje no supervisado que te permitirá descubrir agrupaciones inherentes en los datos.\n",
    "\n",
    "1. **Cargar el conjunto de datos:**\n",
    "   Utiliza `load_iris` de `sklearn.datasets` para cargar los datos.\n",
    "\n",
    "2. **Aplicación de K-Means:**\n",
    "   Aplica el algoritmo K-Means al conjunto de datos y selecciona un número apropiado de clusters (puedes empezar con k=3, que es el número de especies en el conjunto de datos).\n",
    "\n",
    "3. **Evaluación de Clusters:**\n",
    "   Evalúa los clusters utilizando las métricas Silhouettea y el índice Davies-Bouldin.\n",
    "\n",
    "4. **Visualización:**\n",
    "   Visualiza los clusters en un gráfico de dispersión utilizando dos de las características para los ejes.\n",
    "\n",
    "### Instrucciones para el Estudiante:\n",
    "\n",
    "- Completa el código  que falte en las siguientes celdas\n",
    "- Extra 1: El conjunto de datos Iris tiene 4 características por lo que es complicado de visualizar en un gráfico. \n",
    "   - Aplica un algoritmo de reducción de dimensionalidad para dejar solo 3 características.\n",
    "   - Visualiza el resultado en un gráfico de dispersión 3D. \n",
    "   - Utiliza el código de este ejemplo: https://scikit-learn.org/stable/auto_examples/decomposition/plot_pca_iris.html\n",
    "   - Asegúrate de que entiendes el código. Añade comentarios."
   ]
  },
  {
   "cell_type": "code",
   "execution_count": null,
   "metadata": {},
   "outputs": [],
   "source": [
    "# Importaciones necesarias\n",
    "import numpy as np\n",
    "import matplotlib.pyplot as plt\n",
    "from sklearn.datasets import load_iris\n",
    "from sklearn.cluster import KMeans\n",
    "from sklearn.metrics import silhouette_score, davies_bouldin_score"
   ]
  },
  {
   "cell_type": "code",
   "execution_count": null,
   "metadata": {},
   "outputs": [],
   "source": [
    "# Ignorar algunos warnings de KMeans\n",
    "import warnings\n",
    "warnings.filterwarnings(\"ignore\")"
   ]
  },
  {
   "cell_type": "code",
   "execution_count": null,
   "metadata": {},
   "outputs": [],
   "source": [
    "# Cargar el conjunto de datos Iris\n",
    "iris = ## COMPLETA EL CODIGO ##\n",
    "X = ## COMPLETA EL CODIGO ##\n",
    "y = ## COMPLETA EL CODIGO ##"
   ]
  },
  {
   "cell_type": "code",
   "execution_count": null,
   "metadata": {},
   "outputs": [],
   "source": [
    "# Iniciar KMeans \n",
    "# Utiliza el parámetro n_clusters para indicar cuantos clusters quieres crear\n",
    "# Utiliza el parámetro n_init con el valor 'auto'\n",
    "kmeans = ## COMPLETA EL CODIGO ##"
   ]
  },
  {
   "cell_type": "code",
   "execution_count": null,
   "metadata": {},
   "outputs": [],
   "source": [
    "# Entrenar a K-Means\n",
    "## COMPLETA EL CODIGO ##"
   ]
  },
  {
   "cell_type": "code",
   "execution_count": null,
   "metadata": {},
   "outputs": [],
   "source": [
    "# Crear los clusters\n",
    "clusters = ## COMPLETA EL CODIGO ##"
   ]
  },
  {
   "cell_type": "code",
   "execution_count": null,
   "metadata": {},
   "outputs": [],
   "source": [
    "# Mostrar los centros de los clusters\n",
    "print('Los centros de los clusters son:\\n', kmeans.cluster_centers_)"
   ]
  },
  {
   "cell_type": "code",
   "execution_count": null,
   "metadata": {},
   "outputs": [],
   "source": [
    "# Evaluar los resultados\n",
    "silhouette_avg = silhouette_score(X, clusters)\n",
    "db_score = davies_bouldin_score(X, clusters)\n",
    "\n",
    "print(f'Silhouette Score: {silhouette_avg:.2f}')\n",
    "print(f'Davies-Bouldin Score: {db_score:.2f}')"
   ]
  },
  {
   "cell_type": "code",
   "execution_count": null,
   "metadata": {},
   "outputs": [],
   "source": [
    "# Visualización de los clusters\n",
    "plt.scatter(X[:, 0], X[:, 1], c=clusters, cmap='viridis', marker='o')\n",
    "centers = kmeans.cluster_centers_\n",
    "plt.scatter(centers[:, 0], centers[:, 1], c='red', s=200, alpha=0.75, marker='x')\n",
    "plt.title('Visualización de Clusters K-Means del Iris Dataset')\n",
    "plt.xlabel('Longitud del Sépalo')\n",
    "plt.ylabel('Ancho del Sépalo')\n",
    "plt.show()"
   ]
  },
  {
   "cell_type": "code",
   "execution_count": null,
   "metadata": {},
   "outputs": [],
   "source": [
    "# Comparar clusters con etiquetas reales\n",
    "print('Comparación de los clusters encontrados con las etiquetas reales:\\n')\n",
    "for i in range(3):\n",
    "    print(f'Cluster {i}:', list(y[clusters == i]))\n"
   ]
  }
 ],
 "metadata": {
  "kernelspec": {
   "display_name": "curso-python-ml",
   "language": "python",
   "name": "python3"
  },
  "language_info": {
   "codemirror_mode": {
    "name": "ipython",
    "version": 3
   },
   "file_extension": ".py",
   "mimetype": "text/x-python",
   "name": "python",
   "nbconvert_exporter": "python",
   "pygments_lexer": "ipython3",
   "version": "3.11.5"
  }
 },
 "nbformat": 4,
 "nbformat_minor": 2
}
