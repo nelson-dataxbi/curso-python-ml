{
 "cells": [
  {
   "cell_type": "markdown",
   "metadata": {},
   "source": [
    "### Análisis Exploratorio de Datos (EDA) del Titanic con `DataPrep.EDA`\n",
    "\n",
    "**Objetivo:**\n",
    "Realizar un análisis exploratorio de datos (EDA) utilizando la biblioteca `DataPrep.EDA` de Python, que ofrece una forma rápida y eficiente de comprender tu conjunto de datos. A través del método `create_report`, generarás un informe completo del conjunto de datos del Titanic.\n",
    "\n",
    "### Instrucciones para el Estudiante:\n",
    "\n",
    "1. **Instalación y Carga de Librerías:**\n",
    "   - Verifica que `dataprep` esté instalado en tu entorno Python.\n",
    "   - Importa `dataprep.eda` y `pandas`.\n",
    "\n",
    "2. **Carga del Conjunto de Datos:**\n",
    "   - Carga el conjunto de datos del Titanic en un DataFrame de Pandas desde un archivo CSV.\n",
    "\n",
    "3. **Generación del Informe:**\n",
    "   - Utiliza la función `create_report` de `dataprep.eda` para generar el informe EDA del conjunto de datos.\n",
    "   - Utiliza la función `show_browser()` para ver el informe en el navegador.\n",
    "   - El informe incluirá un análisis de cada variable (columna), así como las interacciones entre ellas.\n",
    "\n",
    "4. **Exploración del Informe:**\n",
    "   - Examina las secciones de resumen estadístico, distribuciones de variables, correlaciones, valores faltantes y duplicados.\n",
    "   - Evalúa las sugerencias proporcionadas por el informe sobre la calidad de los datos y las posibles transformaciones que podrían ser necesarias."
   ]
  },
  {
   "cell_type": "code",
   "execution_count": null,
   "metadata": {},
   "outputs": [],
   "source": []
  }
 ],
 "metadata": {
  "kernelspec": {
   "display_name": "curso-python-ml",
   "language": "python",
   "name": "python3"
  },
  "language_info": {
   "codemirror_mode": {
    "name": "ipython",
    "version": 3
   },
   "file_extension": ".py",
   "mimetype": "text/x-python",
   "name": "python",
   "nbconvert_exporter": "python",
   "pygments_lexer": "ipython3",
   "version": "3.11.5"
  }
 },
 "nbformat": 4,
 "nbformat_minor": 2
}
