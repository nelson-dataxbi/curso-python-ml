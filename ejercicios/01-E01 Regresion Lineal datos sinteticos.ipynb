{
 "cells": [
  {
   "cell_type": "markdown",
   "metadata": {},
   "source": [
    "## Regresión Lineal de datos sintéticos\n",
    "\n",
    "### Objetivos del Ejercicio:\n",
    "1. Familiarizarse con la librería `scikit-learn`.\n",
    "2. Entrenar y evaluar un modelo de regresión simple.\n",
    "\n",
    "### Descripción del Ejercicio:\n",
    "\n",
    "En este ejercicio práctico, utilizarás `scikit-learn` para construir un modelo de regresión lineal utilizando un conjunto de datos sintético simple. Este conjunto de datos tendrá una variable independiente y una variable dependiente, lo que permite una fácil visualización y comprensión del modelo de regresión.\n",
    "\n",
    "1. **Generar Datos Sintéticos:**\n",
    "   Usarás `numpy` para crear un conjunto de datos sintético con una relación lineal clara.\n",
    "\n",
    "2. **Visualización de Datos:**\n",
    "   Utilizarás `matplotlib` para visualizar los datos y la relación lineal entre la variable independiente y dependiente.\n",
    "\n",
    "3. **Modelado:**\n",
    "   Aplicarás el modelo de regresión lineal de `scikit-learn` a tus datos para ajustar una línea que minimice el error cuadrático.\n",
    "\n",
    "4. **Evaluación del Modelo:**\n",
    "   Evaluarás el rendimiento de tu modelo utilizando el coeficiente de determinación \\( R^2 \\) para entender cuánto de la variabilidad de los datos es capturada por el modelo.\n",
    "\n",
    "5. **Predicción:**\n",
    "   Realizarás predicciones utilizando tu modelo y visualizarás la línea de mejor ajuste junto con los datos originales.\n",
    "\n",
    "### Instrucciones para el Estudiante:\n",
    "\n",
    "- Completa el código  que falte en las siguientes celdas\n",
    "- Extra 1: Genera datos de prueba, diferentes a los de entrenamiento, y has una nueva predicción con dichos datos y evalúa el resultado."
   ]
  },
  {
   "cell_type": "code",
   "execution_count": null,
   "metadata": {},
   "outputs": [],
   "source": [
    "# Importe las bibliotecas necesarias para el ejercicio\n",
    "import numpy as np\n",
    "import matplotlib.pyplot as plt\n",
    "from sklearn.linear_model import LinearRegression\n",
    "from sklearn.metrics import r2_score"
   ]
  },
  {
   "cell_type": "code",
   "execution_count": null,
   "metadata": {},
   "outputs": [],
   "source": [
    "# Generamos un conjunto de datos sintético\n",
    "rng = np.random.default_rng(seed=42)  # Establecemos una semilla para reproducibilidad\n",
    "x = rng.standard_normal(size=(100, 1))  # Cien puntos de datos para la variable independiente\n",
    "y = 2 + 3 * x + rng.standard_normal(size=(100, 1))  # Generamos la variable dependiente con una relación lineal y ruido"
   ]
  },
  {
   "cell_type": "code",
   "execution_count": null,
   "metadata": {},
   "outputs": [],
   "source": [
    "# Visualizamos los datos generados\n",
    "plt.scatter(x, y, color='blue')\n",
    "plt.title('Visualización de Datos Sintéticos')\n",
    "plt.xlabel('Variable Independiente (x)')\n",
    "plt.ylabel('Variable Dependiente (y)')\n",
    "plt.show()"
   ]
  },
  {
   "cell_type": "code",
   "execution_count": null,
   "metadata": {},
   "outputs": [],
   "source": [
    "# Creamos el modelo de regresión lineal\n",
    "modelo = ## COMPLETA EL CÓDIGO ##"
   ]
  },
  {
   "cell_type": "code",
   "execution_count": null,
   "metadata": {},
   "outputs": [],
   "source": [
    "# Entrenamos el modelo con nuestros datos\n",
    "## COMPLETA EL CÓDIGO ##"
   ]
  },
  {
   "cell_type": "code",
   "execution_count": null,
   "metadata": {},
   "outputs": [],
   "source": [
    "# Hacemos predicciones utilizando el modelo entrenado\n",
    "y_pred = ## COMPLETA EL CÓDIGO ##"
   ]
  },
  {
   "cell_type": "code",
   "execution_count": null,
   "metadata": {},
   "outputs": [],
   "source": [
    "# Visualizamos los datos junto con la línea de regresión\n",
    "plt.scatter(x, y, color='blue', label='Datos originales')\n",
    "plt.plot(x, y_pred, color='red', label='Línea de regresión', linewidth=2)\n",
    "plt.title('Ajuste de Regresión Lineal')\n",
    "plt.xlabel('Variable Independiente (x)')\n",
    "plt.ylabel('Variable Dependiente (y)')\n",
    "plt.legend()\n",
    "plt.show()"
   ]
  },
  {
   "cell_type": "code",
   "execution_count": null,
   "metadata": {},
   "outputs": [],
   "source": [
    "# Evaluamos el modelo calculando el coeficiente de determinación R^2\n",
    "r_cuadrado = r2_score(y, y_pred)\n",
    "print(f'El coeficiente de determinación R^2 es: {r_cuadrado:.2f}')"
   ]
  }
 ],
 "metadata": {
  "kernelspec": {
   "display_name": "curso-python-ml",
   "language": "python",
   "name": "python3"
  },
  "language_info": {
   "codemirror_mode": {
    "name": "ipython",
    "version": 3
   },
   "file_extension": ".py",
   "mimetype": "text/x-python",
   "name": "python",
   "nbconvert_exporter": "python",
   "pygments_lexer": "ipython3",
   "version": "3.11.5"
  }
 },
 "nbformat": 4,
 "nbformat_minor": 2
}
