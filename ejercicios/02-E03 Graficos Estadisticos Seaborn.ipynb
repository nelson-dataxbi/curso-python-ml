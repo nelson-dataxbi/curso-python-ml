{
 "cells": [
  {
   "cell_type": "markdown",
   "metadata": {},
   "source": [
    "### Gráficos Estadísticos con Seaborn\n",
    "\n",
    "En este ejercicio, utilizarás la biblioteca Seaborn para crear visualizaciones estadísticas a partir de tres conjuntos de datos populares: el Titanic, Iris y California Housing. Cada conjunto de datos proporciona una oportunidad única para explorar diferentes tipos de gráficos y entender mejor la distribución y la relación entre variables.\n",
    "\n",
    "### Instrucciones para el Estudiante:\n",
    "- Haga cada uno de los los ejercicios que se piden a continuación.\n",
    "- Crea nuevas celdas si fuera necesario para organizar mejor las respuestas"
   ]
  },
  {
   "cell_type": "code",
   "execution_count": null,
   "metadata": {},
   "outputs": [],
   "source": [
    "# Importarmos las bibliotecas necesarias\n",
    "import pandas as pd\n",
    "import seaborn as sns"
   ]
  },
  {
   "cell_type": "code",
   "execution_count": null,
   "metadata": {},
   "outputs": [],
   "source": [
    "# Definimos un tema para SeaBorn. Siéntete libre para cambiarlo.\n",
    "sns.set_theme(style=\"darkgrid\")"
   ]
  },
  {
   "cell_type": "markdown",
   "metadata": {},
   "source": [
    "**Titanic**\n",
    "\n",
    "1. **Gráfico de Dispersión:**\n",
    "   - Crea un gráfico de dispersión para visualizar la relación entre la edad (`Age`) y el precio del boleto (`Fare`).\n",
    "   - Diferencia los puntos por la variable de supervivencia (`Survived`).\n",
    "\n",
    "2. **Histograma:**\n",
    "   - Construye un histograma para la variable `Age` para entender la distribución de la edad de los pasajeros.\n",
    "3. **KDE:**\n",
    "4. - Dibuja un KDE para la variable `Age` separando por la columna `Survived` \n"
   ]
  },
  {
   "cell_type": "code",
   "execution_count": null,
   "metadata": {},
   "outputs": [],
   "source": [
    "# Cargamos los datos en un DataFrame\n",
    "titanic = pd.read_csv('datos/titanic/train.csv', sep=',')\n",
    "titanic.head()"
   ]
  },
  {
   "cell_type": "code",
   "execution_count": null,
   "metadata": {},
   "outputs": [],
   "source": []
  },
  {
   "cell_type": "markdown",
   "metadata": {},
   "source": [
    "**Iris**\n",
    "\n",
    "1. **KDE (Kernel Density Estimate):**\n",
    "   - Genera un KDE para visualizar la distribución de la longitud del sépalo (`sepal length (cm)`).\n",
    "   - Superpone la densidad KDE para las diferentes especies de Iris (`target`).\n",
    "\n",
    "2. **Boxplot:**\n",
    "   - Crea un boxplot para comparar la distribución de la longitud del pétalo (`petal heigth (cm)`) entre las diferentes especies de Iris."
   ]
  },
  {
   "cell_type": "code",
   "execution_count": null,
   "metadata": {},
   "outputs": [],
   "source": [
    "# Cargamos los datos en un DataFrame\n",
    "iris = pd.read_csv('datos/iris/iris.csv', sep=',')\n",
    "iris.head()"
   ]
  },
  {
   "cell_type": "code",
   "execution_count": null,
   "metadata": {},
   "outputs": [],
   "source": []
  },
  {
   "cell_type": "markdown",
   "metadata": {},
   "source": [
    "**California Housing**\n",
    "\n",
    "1. **Mapa de Calor:**\n",
    "   - Utiliza un mapa de calor para visualizar la correlación entre todas las variables numéricas del conjunto de datos.\n",
    "   - Anota el mapa de calor con los valores de correlación.\n",
    "**Gráfico de Dispersión:**\n",
    "   - Dibuja un gráfico de dispersión para con la latitud y la longitud para tener una idea de la ubicación geográfica. "
   ]
  },
  {
   "cell_type": "code",
   "execution_count": null,
   "metadata": {},
   "outputs": [],
   "source": [
    "# Cargamos los datos en un DataFrame\n",
    "housing = pd.read_csv('datos/housing/housing.csv', sep=',')\n",
    "housing.head()"
   ]
  },
  {
   "cell_type": "code",
   "execution_count": null,
   "metadata": {},
   "outputs": [],
   "source": []
  }
 ],
 "metadata": {
  "kernelspec": {
   "display_name": "curso-python-ml",
   "language": "python",
   "name": "python3"
  },
  "language_info": {
   "codemirror_mode": {
    "name": "ipython",
    "version": 3
   },
   "file_extension": ".py",
   "mimetype": "text/x-python",
   "name": "python",
   "nbconvert_exporter": "python",
   "pygments_lexer": "ipython3",
   "version": "3.11.5"
  }
 },
 "nbformat": 4,
 "nbformat_minor": 2
}
