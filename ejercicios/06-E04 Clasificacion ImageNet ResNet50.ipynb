{
 "cells": [
  {
   "cell_type": "markdown",
   "metadata": {},
   "source": [
    "### Clasificación de imágenes utilizando una red RestNet ya entrenada\n",
    "\n",
    "**Objetivo**\n",
    "\n",
    "Conocer como utilizar en TensorFlow modelos de redes neuronales predefinidos y entrenados. \n",
    "\n",
    "### Tareas del estudiante\n",
    "1. Investigue \n",
    "   1. Busque información sobre las diferentes arquitecturas de Redes Neuronales, por ejemplo: https://www.v7labs.com/blog/neural-network-architectures-guide#h2 \n",
    "   2. Revise en la documentación de Keras los modelos que estñan disponibles: https://keras.io/api/applications/\n",
    "2. Revise el código\n",
    "   1. Se utiliza una Red Neuronal ResNet entrenada con el conjunto de datos [ImageNet](https://en.wikipedia.org/wiki/ImageNet). Aquí puede ver la lista de clases de ImageNt: https://gist.github.com/marodev/7b3ac5f63b0fc5ace84fa723e72e956d\n",
    "   2. Ejecute el código \n",
    "   3. Descargue otras imágenes para la carpeta `ejercicios/datos/imagenet` y en el código cambie \n",
    "   la constante `IMAGE_PATH` y vuelva a ejecutar.\n",
    "3. Cree un ejemplo similar con otro modelo que también sirva para clasificar imágenes. \n",
    "\n",
    "\n"
   ]
  },
  {
   "cell_type": "code",
   "execution_count": null,
   "metadata": {},
   "outputs": [],
   "source": [
    "import numpy as np\n",
    "\n",
    "import tensorflow as tf\n",
    "from tensorflow.keras.applications.resnet50 import ResNet50\n",
    "from tensorflow.keras.preprocessing import image\n",
    "from tensorflow.keras.applications.resnet50 import preprocess_input, decode_predictions\n",
    "\n",
    "# Descargue una imagen y cambie este valor  \n",
    "IMAGE_PATH = 'datos/imagenet/Leones-4-800x500.jpg'\n",
    "\n",
    "model = ResNet50(weights='imagenet')\n",
    "\n",
    "img = image.load_img(IMAGE_PATH, target_size=(224, 224))\n",
    "x = image.img_to_array(img)\n",
    "x = np.expand_dims(x, axis=0)\n",
    "x = preprocess_input(x)\n",
    "\n",
    "preds = model.predict(x)\n",
    "\n",
    "# Obteniendo una lista de las 3 clases con más probabilidad\n",
    "top_3_predictions = decode_predictions(preds, top=3)[0]\n",
    "\n",
    "print('Prediccciones (top 3)')\n",
    "for p in top_3_predictions:\n",
    "    print(f'    {p}')"
   ]
  }
 ],
 "metadata": {
  "kernelspec": {
   "display_name": "curso-python-ml-rn",
   "language": "python",
   "name": "python3"
  },
  "language_info": {
   "codemirror_mode": {
    "name": "ipython",
    "version": 3
   },
   "file_extension": ".py",
   "mimetype": "text/x-python",
   "name": "python",
   "nbconvert_exporter": "python",
   "pygments_lexer": "ipython3",
   "version": "3.9.15"
  }
 },
 "nbformat": 4,
 "nbformat_minor": 2
}
