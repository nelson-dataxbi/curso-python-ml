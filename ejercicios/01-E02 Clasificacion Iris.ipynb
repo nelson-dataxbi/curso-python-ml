{
 "cells": [
  {
   "cell_type": "markdown",
   "metadata": {},
   "source": [
    "## Clasificación de especies de Iris utilizando `scikit-learn` con `DecisionTreeClassifier`\n",
    "\n",
    "### Objetivos del Ejercicio:\n",
    "1. Familiarizarse con el conjunto de datos Iris. \n",
    "2. Entender y aplicar un `DecisionTreeClassifier`.\n",
    "\n",
    "### Descripción del Ejercicio:\n",
    "\n",
    "Este ejercicio te introducirá en el uso del DecisionTreeClassifier de scikit-learn utilizando el conjunto de datos Iris. Realizarás una clasificación para predecir la especie de una flor de Iris basándote en características como el largo y ancho de los sépalos y pétalos.\n",
    "\n",
    "El conjunto de datos Iris contiene medidas de las flores de Iris en cuatro características: longitud del sépalo, ancho del sépalo, longitud del pétalo y ancho del pétalo. \n",
    "\n",
    "Para más información puedes visitar la página de Iris en la Wikipedia: https://es.wikipedia.org/wiki/Conjunto_de_datos_flor_iris\n",
    "\n",
    "1. **Cargar el Conjunto de Datos:**\n",
    "   Usarás `load_iris` de `sklearn.datasets` para cargar los datos.\n",
    "\n",
    "2. **Exploración de Datos:**\n",
    "   Inspeccionarás las características y las etiquetas del conjunto de datos.\n",
    "\n",
    "3. **Preparación de los Datos:**\n",
    "   Dividirás los datos en conjuntos de entrenamiento y prueba con `train_test_split`.\n",
    "\n",
    "4. **Entrenamiento del Modelo:**\n",
    "   Crearás y entrenarás un `DecisionTreeClassifier` con el conjunto de entrenamiento.\n",
    "\n",
    "5. **Evaluación del Modelo:**\n",
    "   Utilizarás el conjunto de prueba para evaluar la precisión del modelo.\n",
    "\n",
    "### Instrucciones para el Estudiante:\n",
    "\n",
    "- Completa el código  que falte en las siguientes celdas\n",
    "- Extra 1: Cambiar el modelo por `RandomForestClassifier`\n",
    "- Extra 2: Dibujar la matriz de confusión. \n",
    "   - Te puedes guiar por esta página: https://scikit-learn.org/stable/auto_examples/model_selection/plot_confusion_matrix.html#sphx-glr-auto-examples-model-selection-plot-confusion-matrix-py\n",
    "   - Asegúrate de que entiendes el código. Añade comentarios."
   ]
  },
  {
   "cell_type": "code",
   "execution_count": null,
   "metadata": {},
   "outputs": [],
   "source": [
    "# Importar las librerías necesarias\n",
    "from sklearn.datasets import load_iris\n",
    "from sklearn.model_selection import train_test_split\n",
    "from sklearn import tree\n",
    "from sklearn.metrics import accuracy_score"
   ]
  },
  {
   "cell_type": "code",
   "execution_count": null,
   "metadata": {},
   "outputs": [],
   "source": [
    "#  Cargar el conjunto de datos Iris\n",
    "#  Utilizamos el parámetro as_frame para poder visualizar mejor los datos\n",
    "iris = load_iris(as_frame=True)"
   ]
  },
  {
   "cell_type": "code",
   "execution_count": null,
   "metadata": {},
   "outputs": [],
   "source": [
    "# Vamos a revisar el objeto cargado\n",
    "iris"
   ]
  },
  {
   "cell_type": "code",
   "execution_count": null,
   "metadata": {},
   "outputs": [],
   "source": [
    "# Visualizar los datos (características) en un DataFrame\n",
    "iris.data"
   ]
  },
  {
   "cell_type": "code",
   "execution_count": null,
   "metadata": {},
   "outputs": [],
   "source": [
    "# Cargarmos de nuevo el conjunto de datos Iris\n",
    "# Esta vez no le pasamos ningún parámetro a la función para obtener lo sdatos en un ndarray\n",
    "iris = load_iris()\n",
    "iris"
   ]
  },
  {
   "cell_type": "code",
   "execution_count": null,
   "metadata": {},
   "outputs": [],
   "source": [
    "# Preparar los datos \n",
    "X, y = iris.data, iris.target"
   ]
  },
  {
   "cell_type": "code",
   "execution_count": null,
   "metadata": {},
   "outputs": [],
   "source": [
    "# Dividir los datos en entrenamiento y prueba. Usa un 20% para pruebas.\n",
    "X_train, X_test, y_train, y_test = ## COMPLETAR EL CÓDIGO ##"
   ]
  },
  {
   "cell_type": "code",
   "execution_count": null,
   "metadata": {},
   "outputs": [],
   "source": [
    "# Crear un clasificador de árbol de decisión\n",
    "clf = ## COMPLETA EL CÓDIGO ##"
   ]
  },
  {
   "cell_type": "code",
   "execution_count": null,
   "metadata": {},
   "outputs": [],
   "source": [
    "# Entrenar el clasificador\n",
    "## COMPLETA EL CÓDIGO ##"
   ]
  },
  {
   "cell_type": "code",
   "execution_count": null,
   "metadata": {},
   "outputs": [],
   "source": [
    "# Dibujar el árbol de decisiónn\n",
    "tree.plot_tree(clf)"
   ]
  },
  {
   "cell_type": "code",
   "execution_count": null,
   "metadata": {},
   "outputs": [],
   "source": [
    "\n",
    "# Realizar predicciones en el conjunto de prueba\n",
    "y_pred = ## COMPLETA EL CÓDIGO ##"
   ]
  },
  {
   "cell_type": "code",
   "execution_count": null,
   "metadata": {},
   "outputs": [],
   "source": [
    "# Evaluar el modelo\n",
    "print(f'\\nPrecisión del modelo: {accuracy_score(y_test, y_pred)}')"
   ]
  }
 ],
 "metadata": {
  "kernelspec": {
   "display_name": "curso-python-ml",
   "language": "python",
   "name": "python3"
  },
  "language_info": {
   "codemirror_mode": {
    "name": "ipython",
    "version": 3
   },
   "file_extension": ".py",
   "mimetype": "text/x-python",
   "name": "python",
   "nbconvert_exporter": "python",
   "pygments_lexer": "ipython3",
   "version": "3.11.5"
  }
 },
 "nbformat": 4,
 "nbformat_minor": 2
}
