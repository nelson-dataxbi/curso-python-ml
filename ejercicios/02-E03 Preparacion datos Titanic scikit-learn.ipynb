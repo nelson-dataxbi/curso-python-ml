{
 "cells": [
  {
   "cell_type": "markdown",
   "metadata": {},
   "source": [
    "### Preparación de los datos del Titanic con scikit-learn\n",
    "\n",
    "**Objetivo:**\n",
    "Aplicar técnicas de preprocesamiento de datos utilizando las herramientas de Scikit-learn para preparar el conjunto de datos del Titanic para el análisis predictivo y el modelado de aprendizaje automático.\n",
    "\n",
    "\n",
    "### Instrucciones para el Estudiante:\n",
    "- Completa el código  que falte en las siguientes celdas"
   ]
  },
  {
   "cell_type": "markdown",
   "metadata": {},
   "source": [
    "\n",
    "**Importr librerias**"
   ]
  },
  {
   "cell_type": "code",
   "execution_count": null,
   "metadata": {},
   "outputs": [],
   "source": [
    "import pandas as pd\n",
    "from sklearn.model_selection import train_test_split\n",
    "from sklearn.impute import SimpleImputer\n",
    "from sklearn.preprocessing import OneHotEncoder, LabelEncoder, MinMaxScaler\n",
    "from sklearn.compose import ColumnTransformer\n",
    "from sklearn.pipeline import Pipeline"
   ]
  },
  {
   "cell_type": "markdown",
   "metadata": {},
   "source": [
    "\n",
    "**Cargar datos**"
   ]
  },
  {
   "cell_type": "code",
   "execution_count": null,
   "metadata": {},
   "outputs": [],
   "source": [
    "titanic = pd.read_csv('../../ejercicios/datos/titanic/train.csv', sep=',')"
   ]
  },
  {
   "cell_type": "markdown",
   "metadata": {},
   "source": [
    "**Imputación de Valores Faltantes:**\n",
    "   - Usa `SimpleImputer` de Scikit-learn para reemplazar los valores faltantes en la columna 'Age' con la mediana.\n",
    "   - Imputa los valores faltantes en la columna 'Embarked' con la moda."
   ]
  },
  {
   "cell_type": "code",
   "execution_count": null,
   "metadata": {},
   "outputs": [],
   "source": [
    "# Imputador para la columna 'Age'\n",
    "age_imputer = ## COMPLETE EL CODIGO ##\n",
    "\n",
    "# Imputador para la columna 'Embarked'\n",
    "embarked_imputer = ## COMPLETE EL CODIGO ##"
   ]
  },
  {
   "cell_type": "markdown",
   "metadata": {},
   "source": [
    "\n",
    "**Conversión de Variables Categóricas:**\n",
    "   - Emplea `LabelEncoder` o `OneHotEncoder` de Scikit-learn para convertir la variable 'Sex' en una forma numérica adecuada para el modelado.\n",
    "   - Aplica `OneHotEncoder` para convertir 'Embarked' en variables dummy."
   ]
  },
  {
   "cell_type": "code",
   "execution_count": null,
   "metadata": {},
   "outputs": [],
   "source": [
    "# Codificador para la variable 'Sex'\n",
    "sex_encoder = ## COMPLETE EL CODIGO ##\n",
    "\n",
    "# Codificador one-hot para la variable 'Embarked'\n",
    "embarked_one_hot_encoder = ## COMPLETE EL CODIGO ##"
   ]
  },
  {
   "cell_type": "markdown",
   "metadata": {},
   "source": [
    "\n",
    "**Estandarización de Características Numéricas:**\n",
    "   - Utiliza `StandardScaler` o `MinMaxScaler` para normalizar la columna 'Fare'."
   ]
  },
  {
   "cell_type": "code",
   "execution_count": null,
   "metadata": {},
   "outputs": [],
   "source": [
    "fare_scaler = ## COMPLETE EL CODIGO ##"
   ]
  },
  {
   "cell_type": "markdown",
   "metadata": {},
   "source": [
    "**Construcción de Pipelines de Preprocesamiento:**\n",
    "   - Crea un pipeline que combine los pasos de imputación, codificación y normalización para automatizar el proceso de limpieza.\n"
   ]
  },
  {
   "cell_type": "code",
   "execution_count": null,
   "metadata": {},
   "outputs": [],
   "source": [
    "# Pipeline para las transformaciones numéricas\n",
    "num_pipeline = Pipeline(steps=[\n",
    "    ('imputer', ## COMPLETE EL CODIGO ##),\n",
    "    ('scaler', ## COMPLETE EL CODIGO ##)\n",
    "])\n",
    "\n",
    "# Pipeline para las transformaciones categóricas\n",
    "cat_pipeline = Pipeline(steps=[\n",
    "    ('imputer', ## COMPLETE EL CODIGO ##),\n",
    "    ('onehot', ## COMPLETE EL CODIGO ##)\n",
    "])\n",
    "\n",
    "# Combinación de los pipelines en un ColumnTransformer\n",
    "preprocessor = ColumnTransformer(\n",
    "    transformers=[\n",
    "        ('num', num_pipeline, ['Age', 'Fare']),\n",
    "        ('cat', cat_pipeline, ['Sex', 'Embarked'])\n",
    "    ])"
   ]
  },
  {
   "cell_type": "markdown",
   "metadata": {},
   "source": [
    "\n",
    "**División de Datos:**\n",
    "   - Divide el conjunto de datos en conjuntos de entrenamiento y prueba usando `train_test_split`."
   ]
  },
  {
   "cell_type": "code",
   "execution_count": null,
   "metadata": {},
   "outputs": [],
   "source": [
    "# Celda 7: División de Datos en Conjuntos de Entrenamiento y Prueba\n",
    "\n",
    "X = titanic.drop('Survived', axis=1)  # Características\n",
    "y = titanic['Survived']  # Variable objetivo\n",
    "\n",
    "# Dividir el conjunto de datos en un conjunto de entrenamiento y otro de prueba\n",
    "X_train, X_test, y_train, y_test = train_test_split(X, y, test_size=0.2, random_state=42)"
   ]
  },
  {
   "cell_type": "markdown",
   "metadata": {},
   "source": [
    "\n",
    "**Aplicación del Pipeline:**\n",
    "   - Ajusta el pipeline al conjunto de entrenamiento y transforma tanto los datos de entrenamiento como de prueba.\n"
   ]
  },
  {
   "cell_type": "code",
   "execution_count": null,
   "metadata": {},
   "outputs": [],
   "source": [
    "# Ajuste del preprocesador al conjunto de entrenamiento y transformación de los conjuntos de datos\n",
    "preprocessor.fit(X_train)\n",
    "\n",
    "X_train_processed = preprocessor.transform(X_train)\n",
    "X_test_processed = preprocessor.transform(X_test)"
   ]
  }
 ],
 "metadata": {
  "kernelspec": {
   "display_name": "curso-python-ml",
   "language": "python",
   "name": "python3"
  },
  "language_info": {
   "codemirror_mode": {
    "name": "ipython",
    "version": 3
   },
   "file_extension": ".py",
   "mimetype": "text/x-python",
   "name": "python",
   "nbconvert_exporter": "python",
   "pygments_lexer": "ipython3",
   "version": "3.11.5"
  }
 },
 "nbformat": 4,
 "nbformat_minor": 2
}
