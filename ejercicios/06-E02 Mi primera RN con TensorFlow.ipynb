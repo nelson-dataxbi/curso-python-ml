{
 "cells": [
  {
   "cell_type": "code",
   "execution_count": 1,
   "metadata": {},
   "outputs": [],
   "source": [
    "import tensorflow as tf\n",
    "from tensorflow import keras\n",
    "from tensorflow.keras import layers"
   ]
  },
  {
   "cell_type": "code",
   "execution_count": 2,
   "metadata": {},
   "outputs": [],
   "source": [
    "# API secuencial\n",
    "\n",
    "model = tf.keras.models.Sequential([\n",
    "  tf.keras.layers.Flatten(input_shape=(784,)),\n",
    "  tf.keras.layers.Dense(64, activation='relu'),\n",
    "  tf.keras.layers.Dense(64, activation='relu'),\n",
    "  tf.keras.layers.Dense(10, activation='softmax')\n",
    "])"
   ]
  },
  {
   "cell_type": "code",
   "execution_count": 3,
   "metadata": {},
   "outputs": [],
   "source": [
    "# API funcional\n",
    "\n",
    "# inputs = keras.Input(shape=(784,), name='img')\n",
    "# x = layers.Dense(64, activation='relu')(inputs)\n",
    "# x = layers.Dense(64, activation='relu')(x)\n",
    "# outputs = layers.Dense(10, activation='softmax')(x)\n",
    "\n",
    "# model = keras.Model(inputs=inputs, outputs=outputs, name='mnist_model')"
   ]
  },
  {
   "cell_type": "code",
   "execution_count": 4,
   "metadata": {},
   "outputs": [
    {
     "name": "stdout",
     "output_type": "stream",
     "text": [
      "Model: \"sequential\"\n",
      "_________________________________________________________________\n",
      " Layer (type)                Output Shape              Param #   \n",
      "=================================================================\n",
      " flatten (Flatten)           (None, 784)               0         \n",
      "                                                                 \n",
      " dense (Dense)               (None, 64)                50240     \n",
      "                                                                 \n",
      " dense_1 (Dense)             (None, 64)                4160      \n",
      "                                                                 \n",
      " dense_2 (Dense)             (None, 10)                650       \n",
      "                                                                 \n",
      "=================================================================\n",
      "Total params: 55,050\n",
      "Trainable params: 55,050\n",
      "Non-trainable params: 0\n",
      "_________________________________________________________________\n"
     ]
    }
   ],
   "source": [
    "model.summary()"
   ]
  },
  {
   "cell_type": "code",
   "execution_count": 5,
   "metadata": {},
   "outputs": [
    {
     "name": "stdout",
     "output_type": "stream",
     "text": [
      "Epoch 1/5\n",
      "750/750 [==============================] - 2s 2ms/step - loss: 0.3576 - accuracy: 0.9003 - val_loss: 0.1915 - val_accuracy: 0.9444\n",
      "Epoch 2/5\n",
      "750/750 [==============================] - 1s 2ms/step - loss: 0.1682 - accuracy: 0.9503 - val_loss: 0.1338 - val_accuracy: 0.9600\n",
      "Epoch 3/5\n",
      "750/750 [==============================] - 2s 3ms/step - loss: 0.1214 - accuracy: 0.9633 - val_loss: 0.1179 - val_accuracy: 0.9632\n",
      "Epoch 4/5\n",
      "750/750 [==============================] - 2s 2ms/step - loss: 0.0961 - accuracy: 0.9710 - val_loss: 0.1141 - val_accuracy: 0.9662\n",
      "Epoch 5/5\n",
      "750/750 [==============================] - 2s 2ms/step - loss: 0.0798 - accuracy: 0.9756 - val_loss: 0.1098 - val_accuracy: 0.9695\n",
      "313/313 - 1s - loss: 0.0998 - accuracy: 0.9697 - 534ms/epoch - 2ms/step\n",
      "Test loss: 0.0997910425066948\n",
      "Test accuracy: 0.9696999788284302\n"
     ]
    }
   ],
   "source": [
    "(x_train, y_train), (x_test, y_test) = keras.datasets.mnist.load_data()\n",
    "x_train = x_train.reshape(60000, 784).astype('float32') / 255\n",
    "x_test = x_test.reshape(10000, 784).astype('float32') / 255\n",
    "\n",
    "model.compile(loss='sparse_categorical_crossentropy',\n",
    "              optimizer=keras.optimizers.RMSprop(),\n",
    "              metrics=['accuracy'])\n",
    "\n",
    "history = model.fit(x_train, y_train,\n",
    "                    batch_size=64,\n",
    "                    epochs=5,\n",
    "                    validation_split=0.2)\n",
    "\n",
    "test_scores = model.evaluate(x_test, y_test, verbose=2)\n",
    "print('Test loss:', test_scores[0])\n",
    "print('Test accuracy:', test_scores[1])"
   ]
  }
 ],
 "metadata": {
  "kernelspec": {
   "display_name": "curso-python-ml-rn",
   "language": "python",
   "name": "python3"
  },
  "language_info": {
   "codemirror_mode": {
    "name": "ipython",
    "version": 3
   },
   "file_extension": ".py",
   "mimetype": "text/x-python",
   "name": "python",
   "nbconvert_exporter": "python",
   "pygments_lexer": "ipython3",
   "version": "3.9.15"
  }
 },
 "nbformat": 4,
 "nbformat_minor": 2
}
