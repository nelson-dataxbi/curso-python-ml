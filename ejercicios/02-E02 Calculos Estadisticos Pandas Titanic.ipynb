{
 "cells": [
  {
   "cell_type": "markdown",
   "metadata": {},
   "source": [
    "### Cáculos Estadísticos con Pandas\n",
    "\n",
    "**Objetivo:** Aprender a utilizar la biblioteca pandas para calcular estadísticas descriptivas de un conjunto de datos.\n",
    "\n",
    "**Conjunto de datos:** Utilizaremos un conjunto de datos público disponible, como el conjunto de datos de de ,os pasajeros del Titanic en formato CSV.\n",
    "\n",
    "### Instrucciones para el Estudiante:\n",
    "- Haga cada uno de los los ejercicios que se piden a continuación.\n",
    "- Crea nuevas celdas si fuera necesario para organizar mejor las respuestas"
   ]
  },
  {
   "cell_type": "markdown",
   "metadata": {},
   "source": [
    "**Cargar el Conjunto de Datos:**\n",
    "- Importa la biblioteca pandas.\n",
    "- Carga el conjunto de datos `ejercicios/datos/titanic/train.csv` en un DataFrame de pandas.\n",
    "- Muestra las primeras filas del DataFrame para entender la estructura de los datos."
   ]
  },
  {
   "cell_type": "code",
   "execution_count": null,
   "metadata": {},
   "outputs": [],
   "source": []
  },
  {
   "cell_type": "markdown",
   "metadata": {},
   "source": [
    "**Exploración Inicial:**\n",
    "- Utiliza `describe()` para obtener un resumen estadístico de las variables numéricas.\n",
    "- Utiliza `info()` para obtener un resumen de los tipos de datos y los valores no nulos."
   ]
  },
  {
   "cell_type": "code",
   "execution_count": null,
   "metadata": {},
   "outputs": [],
   "source": []
  },
  {
   "cell_type": "markdown",
   "metadata": {},
   "source": [
    "**Estadísticas Descriptivas:**\n",
    "- Calcula la media, mediana y moda de una o más columnas.\n",
    "- Determina la desviación estándar y la varianza de una o más columnas.\n",
    "- Explora la distribución de los datos utilizando histogramas."
   ]
  },
  {
   "cell_type": "code",
   "execution_count": null,
   "metadata": {},
   "outputs": [],
   "source": []
  },
  {
   "cell_type": "markdown",
   "metadata": {},
   "source": [
    "**Correlación:**\n",
    "- Calcula y visualiza la matriz de correlación para entender las relaciones entre variables."
   ]
  },
  {
   "cell_type": "code",
   "execution_count": null,
   "metadata": {},
   "outputs": [],
   "source": []
  }
 ],
 "metadata": {
  "kernelspec": {
   "display_name": "curso-python-ml",
   "language": "python",
   "name": "python3"
  },
  "language_info": {
   "codemirror_mode": {
    "name": "ipython",
    "version": 3
   },
   "file_extension": ".py",
   "mimetype": "text/x-python",
   "name": "python",
   "nbconvert_exporter": "python",
   "pygments_lexer": "ipython3",
   "version": "3.11.5"
  }
 },
 "nbformat": 4,
 "nbformat_minor": 2
}
