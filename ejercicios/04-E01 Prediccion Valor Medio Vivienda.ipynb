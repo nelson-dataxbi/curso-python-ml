{
 "cells": [
  {
   "cell_type": "markdown",
   "metadata": {},
   "source": [
    "### Predicción del valor medio de una vivienda con `scikit-learn``\n",
    "\n",
    "**Objetivos:**\n",
    "Desarrollar un modelo de regresión que prediga el valor medio de las viviendas en el estado de California utilizando el conjunto de datos \"California Housing\" y la librería `scikit-learn`.\n",
    "\n",
    "### Instrucciones para el Estudiante:\n",
    "- Haga cada uno de los los ejercicios que se piden a continuación."
   ]
  },
  {
   "cell_type": "markdown",
   "metadata": {},
   "source": [
    "\n",
    "**Carga y Exploración del Dataset:**\n",
    "  1. Importar el conjunto de datos \"California Housing\" que está en la carpeta de datos.\n",
    "  2. Realizar un análisis exploratorio para comprender las características y la estructura del dataset. Explorar estadísticas descriptivas y realizar visualizaciones de las distintas características y de la variable objetivo (valor medio de la vivienda).\n"
   ]
  },
  {
   "cell_type": "code",
   "execution_count": null,
   "metadata": {},
   "outputs": [],
   "source": []
  },
  {
   "cell_type": "markdown",
   "metadata": {},
   "source": [
    "**Preparación de los datos:**\n",
    "1. Limpiar el dataset si es necesario (manejo de valores faltantes, outliers, etc.).\n",
    "2. Dividir el conjunto de datos en un conjunto de entrenamiento y un conjunto de pruebas.\n",
    "3. Aplicar técnicas de normalización o estandarización a las características."
   ]
  },
  {
   "cell_type": "code",
   "execution_count": null,
   "metadata": {},
   "outputs": [],
   "source": []
  },
  {
   "cell_type": "markdown",
   "metadata": {},
   "source": [
    "**Selección y entrenamiento de modelos:**\n",
    "1. Selecciona al menos dos modelos de regresión diferentes (por ejemplo, Regresión Lineal, Random Forest) para entrenar con el conjunto de datos."
   ]
  },
  {
   "cell_type": "code",
   "execution_count": null,
   "metadata": {},
   "outputs": [],
   "source": []
  },
  {
   "cell_type": "markdown",
   "metadata": {},
   "source": [
    "**Evaluación de modelos:**\n",
    "1. Evaluar los modelos utilizando métricas de regresión apropiadas como RMSE (Root Mean Squared Error), MAE (Mean Absolute Error) y R².\n",
    "1. Analizar los errores y precisión de los modelos y visualizar la diferencia entre los valores reales y los predichos."
   ]
  },
  {
   "cell_type": "code",
   "execution_count": null,
   "metadata": {},
   "outputs": [],
   "source": []
  }
 ],
 "metadata": {
  "language_info": {
   "name": "python"
  }
 },
 "nbformat": 4,
 "nbformat_minor": 2
}
