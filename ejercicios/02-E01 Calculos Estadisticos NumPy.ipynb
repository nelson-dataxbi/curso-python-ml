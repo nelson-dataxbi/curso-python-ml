{
 "cells": [
  {
   "cell_type": "markdown",
   "metadata": {},
   "source": [
    "## Cálculos Estadísticos con Numpy\n",
    "\n",
    "### Objetivos del Ejercicio:\n",
    "\n",
    "1. Utilizar la biblioteca `Numpy` para realizar cálculos estadísticos básicos.\n",
    "\n",
    "### Instrucciones para el Estudiante:\n",
    "- Haga cada uno de los los ejercicios que se piden a continuación.\n",
    "- Crea nuevas celdas si fuera necesario para organizar mejor las respuestas\n"
   ]
  },
  {
   "cell_type": "code",
   "execution_count": null,
   "metadata": {},
   "outputs": [],
   "source": [
    "# Importando la librería NumPy\n",
    "import numpy as np"
   ]
  },
  {
   "cell_type": "markdown",
   "metadata": {},
   "source": [
    "**Generación de datos**:\n",
    "1. Crea un array con los números del 1 al 10 utilizando la función `np.arange`\n",
    "1. Crea un array de ceros de tamaño 3x3 con la función `np.zeros`.\n",
    "1. Crea un array de unos de tamaño 2x5 con la función `np.ones`."
   ]
  },
  {
   "cell_type": "code",
   "execution_count": null,
   "metadata": {},
   "outputs": [],
   "source": []
  },
  {
   "cell_type": "markdown",
   "metadata": {},
   "source": [
    "**Generación de datos aleatorios:**\n",
    "1. Utiliza la función `np.random.default_rng()` para inicializar el generador de números aleatorios.\n",
    "1. Genera un array unidimensional de 10 elementos con números flotantes aleatorios entre 0 y 1.\n",
    "1. Genera un array unidimensional de 10 elmentos con números enteros aleatorios entre 0 y 100.\n",
    "1. Genera un array unidimensional de 10 elementos con los textos 'piedra', 'papel', 'tijera' escogidos de manera aleatoria.\n",
    "1. Genera un array de 1000 puntos de datos que sigan una distribución normal con una media de 50 y una desviación estándar de 10."
   ]
  },
  {
   "cell_type": "code",
   "execution_count": null,
   "metadata": {},
   "outputs": [],
   "source": []
  },
  {
   "cell_type": "markdown",
   "metadata": {},
   "source": [
    "**Redistribución de Datos:**\n",
    "1. Crea un array de 100 números enteros consecutivos del 1 al 100 utilizando la función `np.arange` \n",
    "   - Cambia la forma del arreglo a una matriz de 50 filas y 2 columnas con la función `np.reshape`\n",
    "   - Transforma la matriz anterior en una de 25x4\n",
    "   - Utiliza la función `shape` guardar en dos variables las dimensiones de las dos matrices anteriores.\n",
    "1. Crea 2 arrays: Uno unidimensional con 5 ceros y otro de 5x2 con unos.\n",
    "   - Combina ambos arrays para crear un nuevo array de 5x3 donde la primera columna sea de ceros y las otras dos columnas de unos, utilizando la función `np.column_stack`\n",
    "   - Vuelve a combinar los arrays para crear otro nuevo array de 3x5 donde las dos primeras filas sean de unos, utilizando la función `np.row_stack`      "
   ]
  },
  {
   "cell_type": "code",
   "execution_count": null,
   "metadata": {},
   "outputs": [],
   "source": []
  },
  {
   "cell_type": "code",
   "execution_count": null,
   "metadata": {},
   "outputs": [],
   "source": [
    "ceros = np.zeros(5)\n",
    "unos = np.ones((5,2))\n",
    "m1 = np.column_stack([ceros,unos])\n",
    "m2 = np.row_stack((unos.reshape(2,5),ceros))\n",
    "m1, m2"
   ]
  },
  {
   "cell_type": "markdown",
   "metadata": {},
   "source": [
    "**Operaciones Vectoriales:** \n",
    "1. Crea una matriz 3x4 con numeros enteros del 1 al 12.\n",
    "   - Súmale 1 a cada uno de los elementos de la matriz.\n",
    "   - Multiplica por 2 cada uno de los elemntos de la matriz original.\n",
    "   - Eleva al cuadrado cado uno de los elementos de la matriz original.\n",
    "   - Crea una nueva matriz de 3x4 que contenga True para cada elemento de la matriz original que sea menor que 8 y False para el resto.\n",
    "   - Crea una nueva matriz de 3x4 que contenga True para los elemntos pares de la matriz original y False para los impares.\n",
    "1. Crea una matriz de 5x4 que tenga los números pares entre 2 y 40.\n",
    "1. Utilizando las funciones `np.zeros`, `np.ones`, `np.row_stack` y operaciones vectoriales, crea un matriz de 3x4 donde en la primera fila todos los valores sean -1, en la segunda fila todos los valores sean 0 y en la tercera fila todos los valores sean \n",
    "1. Crea dos vectores (arrays) de 10 elementos aleatorios cada uno, en el rango 1 al 50.\n",
    "   - Calcula la suma, resta, multiplicación y división entre ambos vectores.\n",
    "   - Calcula el producto escalar, utilizando la fórmula A1 * B1 + A2 * B2 ... + An * Bn, donde A y B son los vectores."
   ]
  },
  {
   "cell_type": "code",
   "execution_count": null,
   "metadata": {},
   "outputs": [],
   "source": []
  },
  {
   "cell_type": "markdown",
   "metadata": {},
   "source": [
    "**Indexado**\n",
    "1. Crea una matriz de 5x5 con valores enteros aleatorios del 1 al 25.\n",
    "   - Crea un array unidimensional con los elementos que son mayores que 10.\n",
    "   - Crea una matriz 3x2 a partir de la matriz original, seleccionando las filas 0, 3 y 4 y las columnas 2 y 4.\n",
    "   - Crea otra matriz de 5x5 a partir de la original, pero donde los valores menores o iguales a 10 sean sustituidos por 0."
   ]
  },
  {
   "cell_type": "code",
   "execution_count": null,
   "metadata": {},
   "outputs": [],
   "source": []
  },
  {
   "cell_type": "markdown",
   "metadata": {},
   "source": [
    "**Cálculos Estadísticos Básicos:**\n",
    "1. Crea una matriz 50x20 con números aleatorios que sigan una distribución normal con una media de 50 y una desviación estándar de 10.\n",
    "   - Calcula la media, la mediana y la desviación estándar de los datos generados.\n",
    "   - Calcula el valor mínimo y máximo del conjunto de datos.\n",
    "   - Calcula la media de cada columna y cada fila de la matriz.\n",
    "   - Calcula los percentiles 25, 50 y 75.\n",
    "1. Crea un array de 10 000 elementos con una distribución normal de números aleatorios\n",
    "   - Calcula un histograma donde la cantidad de bins se seleccione automáticamnte\n",
    "\n",
    "\n",
    "\n",
    "\n"
   ]
  },
  {
   "cell_type": "code",
   "execution_count": null,
   "metadata": {},
   "outputs": [],
   "source": []
  }
 ],
 "metadata": {
  "kernelspec": {
   "display_name": "curso-python-ml",
   "language": "python",
   "name": "python3"
  },
  "language_info": {
   "codemirror_mode": {
    "name": "ipython",
    "version": 3
   },
   "file_extension": ".py",
   "mimetype": "text/x-python",
   "name": "python",
   "nbconvert_exporter": "python",
   "pygments_lexer": "ipython3",
   "version": "3.11.5"
  }
 },
 "nbformat": 4,
 "nbformat_minor": 2
}
