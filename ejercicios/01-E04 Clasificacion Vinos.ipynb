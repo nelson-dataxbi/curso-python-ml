{
 "cells": [
  {
   "cell_type": "markdown",
   "metadata": {},
   "source": [
    "## Clasificación con `scikit-learn` utilizando el conjunto de datos de vinos\n",
    "\n",
    "### Objetivos del Ejercicio:\n",
    "1. Realizar una clasificación del dataset 'wine' de la biblioteca Scikit-Learn utilizando el algoritmo de aprendizaje automático de tu elección.\n",
    "\n",
    "### Instrucciones para el Estudiante:\n",
    "\n",
    "1. Importa el conjunto de datos 'wine' de `scikit-learn`\n",
    "   - Explora brevemente el dataset para entender su estructura, incluyendo características (features), etiquetas (labels) y la descripción del dataset.      \n",
    "   \n",
    "2. Divide el dataset en un conjunto de entrenamiento y un conjunto de pruebas.\n",
    "\n",
    "3. Escoge un algoritmo de clasificación \n",
    "\n",
    "4. Entrena el modelo de clasificación con el conjunto de entrenamiento.\n",
    "\n",
    "5. Evalúa el rendimiento del modelo utilizando el conjunto de pruebas.\n",
    "   - Visualiza la matriz de confusión\n",
    "\n"
   ]
  },
  {
   "cell_type": "code",
   "execution_count": null,
   "metadata": {},
   "outputs": [],
   "source": [
    "# Aquí está tu hoja en blanco. "
   ]
  }
 ],
 "metadata": {
  "kernelspec": {
   "display_name": "curso-python-ml",
   "language": "python",
   "name": "python3"
  },
  "language_info": {
   "name": "python",
   "version": "3.11.5"
  }
 },
 "nbformat": 4,
 "nbformat_minor": 2
}
