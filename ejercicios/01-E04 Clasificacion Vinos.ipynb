{
 "cells": [
  {
   "cell_type": "markdown",
   "metadata": {},
   "source": [
    "### Clasificación con Scikit-Learn utilizando el conjunto de datos de vinos\n",
    "\n",
    "**Objetivo:** Realizar una clasificación del dataset 'wine' de la biblioteca Scikit-Learn utilizando el algoritmo de aprendizaje automático de tu elección.\n",
    "\n",
    "**Instrucciones:**\n",
    "\n",
    "1. **Carga del Dataset:**\n",
    "   - Importa el conjunto de 'wine' de Scikit-Learn.\n",
    "   - Explora brevemente el dataset para entender su estructura, incluyendo características (features), etiquetas (labels) y la descripción del dataset.\n",
    "\n",
    "2. **Preprocesamiento de Datos:**\n",
    "   - Divide el dataset en un conjunto de entrenamiento y un conjunto de pruebas.\n",
    "\n",
    "3. **Selección del Modelo:**\n",
    "   - Escoge un algoritmo de clasificación \n",
    "\n",
    "4. **Entrenamiento del Modelo:**\n",
    "   - Entrena el modelo de clasificación con el conjunto de entrenamiento.\n",
    "\n",
    "5. **Evaluación del Modelo:**\n",
    "   - Evalúa el rendimiento del modelo utilizando el conjunto de pruebas.\n",
    "   - Visualiza la matriz de confusión\n"
   ]
  },
  {
   "cell_type": "code",
   "execution_count": null,
   "metadata": {},
   "outputs": [],
   "source": [
    "# Aquí está tu hoja en blanco. "
   ]
  }
 ],
 "metadata": {
  "kernelspec": {
   "display_name": "curso-python-ml",
   "language": "python",
   "name": "python3"
  },
  "language_info": {
   "name": "python",
   "version": "3.11.5"
  }
 },
 "nbformat": 4,
 "nbformat_minor": 2
}
